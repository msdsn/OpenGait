{
 "cells": [
  {
   "cell_type": "markdown",
   "metadata": {
    "colab_type": "text",
    "id": "view-in-github"
   },
   "source": [
    "<a href=\"https://colab.research.google.com/github/msdsn/OpenGait/blob/master/RunOnColab.ipynb\" target=\"_parent\"><img src=\"https://colab.research.google.com/assets/colab-badge.svg\" alt=\"Open In Colab\"/></a>"
   ]
  },
  {
   "cell_type": "code",
   "execution_count": null,
   "metadata": {
    "id": "QJY6AqO-RMSs"
   },
   "outputs": [],
   "source": [
    "import os"
   ]
  },
  {
   "cell_type": "code",
   "execution_count": null,
   "metadata": {
    "colab": {
     "base_uri": "https://localhost:8080/"
    },
    "id": "5NVsWe883YqZ",
    "outputId": "e96533fd-bcd2-4986-d7b8-324582dee684"
   },
   "outputs": [],
   "source": [
    "!gdown 1d-DGCtaex6YZNg2ad2aPzRWW0xn4bVj3"
   ]
  },
  {
   "cell_type": "code",
   "execution_count": null,
   "metadata": {
    "colab": {
     "base_uri": "https://localhost:8080/"
    },
    "id": "uzwmt6X8J9fm",
    "outputId": "53dfc73b-2b5c-4852-cd7a-0a13dd21e555"
   },
   "outputs": [],
   "source": [
    "!unzip \"/content/GaitDatasetB-silh.zip\" -d \"/content/GaitDatasetB\""
   ]
  },
  {
   "cell_type": "code",
   "execution_count": null,
   "metadata": {
    "colab": {
     "base_uri": "https://localhost:8080/"
    },
    "id": "bzQBHPBRKOXN",
    "outputId": "2944dd88-de12-4222-a849-21c329e1e7e6"
   },
   "outputs": [],
   "source": [
    "import tarfile\n",
    "import os\n",
    "\n",
    "def unzip_tar_gz(folder_path):\n",
    "  for filename in os.listdir(folder_path):\n",
    "    if filename.endswith(\".tar.gz\"):\n",
    "      filepath = os.path.join(folder_path, filename)\n",
    "      try:\n",
    "        with tarfile.open(filepath, \"r:gz\") as tar:\n",
    "          tar.extractall(folder_path)\n",
    "          print(f\"Extracted: {filename}\")\n",
    "        # remove tar.gz\n",
    "        os.remove(filepath)\n",
    "      except Exception as e:\n",
    "        print(f\"Error extracting {filename}: {e}\")\n",
    "\n",
    "unzip_tar_gz(\"/content/GaitDatasetB/GaitDatasetB-silh\")"
   ]
  },
  {
   "cell_type": "code",
   "execution_count": null,
   "metadata": {
    "id": "nyI7ryblAShl"
   },
   "outputs": [],
   "source": [
    "# !rm -rf configs\n",
    "# !rm -rf datasets\n",
    "# !rm -rf opengait\n",
    "# !rm -rf output\n",
    "# !rm -rf README.md\n",
    "# !rm -rf .gitignore\n",
    "# !rm -rf .git"
   ]
  },
  {
   "cell_type": "code",
   "execution_count": null,
   "metadata": {
    "colab": {
     "base_uri": "https://localhost:8080/"
    },
    "collapsed": true,
    "id": "TWaqLGmmGbRd",
    "outputId": "899d1741-f6bf-4761-fa24-bc7dbc4aac93"
   },
   "outputs": [],
   "source": [
    "!git init\n",
    "!git config user.email \"you@example.com\"\n",
    "!git config user.name \"Your Name\"\n",
    "!git remote add origin https://github.com/msdsn/OpenGait.git\n",
    "!git fetch origin\n",
    "!git merge origin/master --allow-unrelated-histories"
   ]
  },
  {
   "cell_type": "code",
   "execution_count": null,
   "metadata": {
    "id": "uV_r5pSyIqBE"
   },
   "outputs": [],
   "source": [
    "#!git pull origin master"
   ]
  },
  {
   "cell_type": "code",
   "execution_count": null,
   "metadata": {
    "colab": {
     "base_uri": "https://localhost:8080/"
    },
    "id": "W08qcuIE2oG0",
    "outputId": "d19b187a-33d1-4ada-860a-a0727f570975"
   },
   "outputs": [],
   "source": [
    "!python \"./datasets/pretreatment.py\" --input_path \"/content/GaitDatasetB/GaitDatasetB-silh\" --output_path CASIA-B-pkl"
   ]
  },
  {
   "cell_type": "code",
   "execution_count": null,
   "metadata": {
    "colab": {
     "base_uri": "https://localhost:8080/"
    },
    "id": "Dasm55M15keM",
    "outputId": "c58ff5e8-9e8a-4f51-c8c2-5371cb3187a5"
   },
   "outputs": [],
   "source": [
    "!nvidia-smi -L"
   ]
  },
  {
   "cell_type": "code",
   "execution_count": null,
   "metadata": {
    "colab": {
     "base_uri": "https://localhost:8080/"
    },
    "id": "nQpxB7Xl5zlU",
    "outputId": "28302887-59ab-402b-abf9-7a284e1c2f80"
   },
   "outputs": [],
   "source": [
    "pip install tqdm pyyaml tensorboard opencv-python kornia einops torchvision"
   ]
  },
  {
   "cell_type": "code",
   "execution_count": null,
   "metadata": {
    "id": "heE-wkCebibp"
   },
   "outputs": [],
   "source": [
    "#!export PYTORCH_CUDA_ALLOC_CONF=expandable_segments:True"
   ]
  },
  {
   "cell_type": "code",
   "execution_count": null,
   "metadata": {
    "colab": {
     "base_uri": "https://localhost:8080/"
    },
    "id": "woWhi6qg8YnV",
    "outputId": "f1415c1e-72f7-4255-bf9b-562aa59c0b18"
   },
   "outputs": [],
   "source": [
    "!CUDA_VISIBLE_DEVICES=0 python -m torch.distributed.launch --nproc_per_node=1 opengait/main.py --cfgs ./configs/baseattention/baseattention.yaml --phase train"
   ]
  },
  {
   "cell_type": "code",
   "execution_count": null,
   "metadata": {
    "colab": {
     "base_uri": "https://localhost:8080/"
    },
    "id": "2DreSaqUNdYp",
    "outputId": "de924198-6150-4562-9cf7-ace71fbfdb94"
   },
   "outputs": [],
   "source": [
    "!CUDA_VISIBLE_DEVICES=0 python -m torch.distributed.launch --nproc_per_node=1 opengait/main.py --cfgs ./configs/baseattention/baseattention.yaml --phase test"
   ]
  },
  {
   "cell_type": "code",
   "execution_count": null,
   "metadata": {
    "id": "GuLxGhxbxm09"
   },
   "outputs": [],
   "source": []
  }
 ],
 "metadata": {
  "accelerator": "GPU",
  "colab": {
   "authorship_tag": "ABX9TyNmPE9pAOREEmlv9MsfsxIZ",
   "gpuType": "A100",
   "include_colab_link": true,
   "machine_shape": "hm",
   "mount_file_id": "1MnwWlkC6I_RhTBh6PbBod-xKFNiS3uNU",
   "provenance": []
  },
  "kernelspec": {
   "display_name": "Python 3",
   "name": "python3"
  },
  "language_info": {
   "name": "python"
  }
 },
 "nbformat": 4,
 "nbformat_minor": 0
}
